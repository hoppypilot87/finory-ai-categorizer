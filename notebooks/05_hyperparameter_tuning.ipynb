{
 "cells": [
  {
   "cell_type": "code",
   "execution_count": 22,
   "id": "7e4bb8b0-a08b-4edc-a4b8-a58c08b61a16",
   "metadata": {},
   "outputs": [],
   "source": [
    "# Basic libraries\n",
    "import pandas as pd\n",
    "import numpy as np\n",
    "\n",
    "# Load the preprocessed dataset\n",
    "df = pd.read_csv(\"../data/synthetic_finory_preprocessed.csv\")\n",
    "\n",
    "# Feature columns and target\n",
    "feature_cols = ['vendor_encoded', 'amount_log', 'payment_encoded', 'day_of_week', 'month']\n",
    "target_col = 'category_encoded'\n",
    "\n",
    "X = df[feature_cols]\n",
    "y = df[target_col]\n",
    "\n",
    "# Train-test split\n",
    "from sklearn.model_selection import train_test_split\n",
    "X_train, X_test, y_train, y_test = train_test_split(\n",
    "    X, y, test_size=0.2, random_state=42, stratify=y\n",
    ")"
   ]
  },
  {
   "cell_type": "code",
   "execution_count": 24,
   "id": "831345fd-728a-4cb9-b985-ed986275d8b3",
   "metadata": {},
   "outputs": [
    {
     "name": "stdout",
     "output_type": "stream",
     "text": [
      "Fitting 3 folds for each of 12 candidates, totalling 36 fits\n",
      "\n",
      "🎯 Best Parameters: {'learning_rate': 0.1, 'max_depth': 3, 'n_estimators': 50}\n",
      "✅ Best CV Accuracy: 0.6072526377471429\n",
      "\n",
      "🚀 Test Accuracy with Best Params: 0.602\n",
      "\n",
      "Classification Report:\n",
      "               precision    recall  f1-score   support\n",
      "\n",
      "           0       0.33      0.17      0.22        12\n",
      "           1       0.00      0.00      0.00        42\n",
      "           2       0.33      0.02      0.04        52\n",
      "           3       0.00      0.00      0.00        45\n",
      "           4       0.75      0.43      0.55        95\n",
      "           5       0.60      0.80      0.69       521\n",
      "           6       0.66      0.68      0.67       157\n",
      "           7       0.45      0.45      0.45        76\n",
      "\n",
      "    accuracy                           0.60      1000\n",
      "   macro avg       0.39      0.32      0.33      1000\n",
      "weighted avg       0.54      0.60      0.55      1000\n",
      "\n"
     ]
    },
    {
     "name": "stderr",
     "output_type": "stream",
     "text": [
      "/opt/anaconda3/lib/python3.12/site-packages/sklearn/metrics/_classification.py:1531: UndefinedMetricWarning: Precision is ill-defined and being set to 0.0 in labels with no predicted samples. Use `zero_division` parameter to control this behavior.\n",
      "  _warn_prf(average, modifier, f\"{metric.capitalize()} is\", len(result))\n",
      "/opt/anaconda3/lib/python3.12/site-packages/sklearn/metrics/_classification.py:1531: UndefinedMetricWarning: Precision is ill-defined and being set to 0.0 in labels with no predicted samples. Use `zero_division` parameter to control this behavior.\n",
      "  _warn_prf(average, modifier, f\"{metric.capitalize()} is\", len(result))\n",
      "/opt/anaconda3/lib/python3.12/site-packages/sklearn/metrics/_classification.py:1531: UndefinedMetricWarning: Precision is ill-defined and being set to 0.0 in labels with no predicted samples. Use `zero_division` parameter to control this behavior.\n",
      "  _warn_prf(average, modifier, f\"{metric.capitalize()} is\", len(result))\n"
     ]
    }
   ],
   "source": [
    "# -----------------------------------------------------------------------------------\n",
    "# Phase 5: Hyperparameter Tuning for XGBoost (GridSearchCV)\n",
    "# -----------------------------------------------------------------------------------\n",
    "# Objective:\n",
    "# Systematically search all parameter combinations for XGBoost \n",
    "# using GridSearchCV to find the best-performing model.\n",
    "# -----------------------------------------------------------------------------------\n",
    "\n",
    "from sklearn.model_selection import GridSearchCV\n",
    "from sklearn.metrics import accuracy_score, classification_report\n",
    "from xgboost import XGBClassifier\n",
    "\n",
    "# ✅ Define parameter grid for exhaustive search\n",
    "param_grid = {\n",
    "    'max_depth': [3, 5, 7],        # Depth of trees\n",
    "    'n_estimators': [50, 100],     # Number of boosting rounds\n",
    "    'learning_rate': [0.05, 0.1]   # Step size shrinkage\n",
    "}\n",
    "\n",
    "# ✅ Initialize the base model\n",
    "xgb_model = XGBClassifier(\n",
    "    objective='multi:softmax',\n",
    "    num_class=len(np.unique(y_train)),  # Ensure correct number of output classes\n",
    "    random_state=42\n",
    ")\n",
    "\n",
    "# ✅ GridSearchCV: tries ALL combinations with cross-validation\n",
    "grid_search = GridSearchCV(\n",
    "    estimator=xgb_model,\n",
    "    param_grid=param_grid,\n",
    "    scoring='accuracy',\n",
    "    cv=3,        # 3-fold cross-validation\n",
    "    verbose=1    # Prints progress\n",
    ")\n",
    "\n",
    "# ✅ Fit on training data\n",
    "grid_search.fit(X_train, y_train)\n",
    "\n",
    "# ✅ Best parameters and best cross-validation accuracy\n",
    "print(\"\\n🎯 Best Parameters:\", grid_search.best_params_)\n",
    "print(\"✅ Best CV Accuracy:\", grid_search.best_score_)\n",
    "\n",
    "# ✅ Evaluate the tuned model on the held-out test set\n",
    "best_xgb = grid_search.best_estimator_\n",
    "y_pred_best = best_xgb.predict(X_test)\n",
    "\n",
    "print(\"\\n🚀 Test Accuracy with Best Params:\", accuracy_score(y_test, y_pred_best))\n",
    "print(\"\\nClassification Report:\\n\", classification_report(y_test, y_pred_best))"
   ]
  },
  {
   "cell_type": "code",
   "execution_count": 25,
   "id": "2b3a85a9-9a37-43d5-bbbc-be16249bd9be",
   "metadata": {},
   "outputs": [
    {
     "name": "stdout",
     "output_type": "stream",
     "text": [
      "Fitting 3 folds for each of 15 candidates, totalling 45 fits\n",
      "\n",
      "🎯 Best Parameters: {'subsample': 0.7, 'n_estimators': 100, 'min_child_weight': 3, 'max_depth': 7, 'learning_rate': 0.2, 'gamma': 5, 'colsample_bytree': 1.0}\n",
      "✅ Best CV Accuracy: 0.6087530128409164\n",
      "\n",
      "🚀 Tuned XGBoost Test Accuracy: 0.616\n",
      "\n",
      "Classification Report:\n",
      "               precision    recall  f1-score   support\n",
      "\n",
      "           0       0.00      0.00      0.00        12\n",
      "           1       0.00      0.00      0.00        42\n",
      "           2       0.00      0.00      0.00        52\n",
      "           3       0.00      0.00      0.00        45\n",
      "           4       0.75      0.43      0.55        95\n",
      "           5       0.61      0.81      0.70       521\n",
      "           6       0.66      0.68      0.67       157\n",
      "           7       0.49      0.58      0.53        76\n",
      "\n",
      "    accuracy                           0.62      1000\n",
      "   macro avg       0.31      0.31      0.31      1000\n",
      "weighted avg       0.53      0.62      0.56      1000\n",
      "\n"
     ]
    },
    {
     "name": "stderr",
     "output_type": "stream",
     "text": [
      "/opt/anaconda3/lib/python3.12/site-packages/sklearn/metrics/_classification.py:1531: UndefinedMetricWarning: Precision is ill-defined and being set to 0.0 in labels with no predicted samples. Use `zero_division` parameter to control this behavior.\n",
      "  _warn_prf(average, modifier, f\"{metric.capitalize()} is\", len(result))\n",
      "/opt/anaconda3/lib/python3.12/site-packages/sklearn/metrics/_classification.py:1531: UndefinedMetricWarning: Precision is ill-defined and being set to 0.0 in labels with no predicted samples. Use `zero_division` parameter to control this behavior.\n",
      "  _warn_prf(average, modifier, f\"{metric.capitalize()} is\", len(result))\n",
      "/opt/anaconda3/lib/python3.12/site-packages/sklearn/metrics/_classification.py:1531: UndefinedMetricWarning: Precision is ill-defined and being set to 0.0 in labels with no predicted samples. Use `zero_division` parameter to control this behavior.\n",
      "  _warn_prf(average, modifier, f\"{metric.capitalize()} is\", len(result))\n"
     ]
    }
   ],
   "source": [
    "# -----------------------------------------------------------------------------------\n",
    "# Phase 5: Hyperparameter Tuning for XGBoost\n",
    "# -----------------------------------------------------------------------------------\n",
    "# Objective:\n",
    "# Improve XGBoost model performance using RandomizedSearchCV to find the best parameters.\n",
    "# -----------------------------------------------------------------------------------\n",
    "\n",
    "from sklearn.model_selection import RandomizedSearchCV\n",
    "from xgboost import XGBClassifier\n",
    "from sklearn.metrics import accuracy_score, classification_report\n",
    "import numpy as np\n",
    "\n",
    "# ✅ Define the parameter search space\n",
    "param_dist = {\n",
    "    'n_estimators': [100, 200, 300],\n",
    "    'max_depth': [3, 5, 7],\n",
    "    'learning_rate': [0.01, 0.1, 0.2],\n",
    "    'subsample': [0.7, 0.8, 1.0],\n",
    "    'colsample_bytree': [0.7, 0.8, 1.0],\n",
    "    'min_child_weight': [1, 3, 5],\n",
    "    'gamma': [0, 1, 5]\n",
    "}\n",
    "\n",
    "# ✅ Initialize the base XGBoost model\n",
    "xgb_model = XGBClassifier(\n",
    "    objective='multi:softmax',\n",
    "    num_class=len(np.unique(y_train)),\n",
    "    random_state=42,\n",
    "    n_jobs=-1\n",
    ")\n",
    "\n",
    "# ✅ Randomized Search with 15 combinations & 3-fold CV\n",
    "random_search_xgb = RandomizedSearchCV(\n",
    "    estimator=xgb_model,\n",
    "    param_distributions=param_dist,\n",
    "    n_iter=15,            # randomly sample 15 combinations\n",
    "    scoring='accuracy',\n",
    "    cv=3,                 # 3-fold cross-validation\n",
    "    verbose=1,\n",
    "    random_state=42,\n",
    "    n_jobs=-1\n",
    ")\n",
    "\n",
    "# ✅ Fit the random search\n",
    "random_search_xgb.fit(X_train, y_train)\n",
    "\n",
    "# ✅ Best parameters & best CV score\n",
    "print(\"\\n🎯 Best Parameters:\", random_search_xgb.best_params_)\n",
    "print(\"✅ Best CV Accuracy:\", random_search_xgb.best_score_)\n",
    "\n",
    "# ✅ Evaluate tuned model on test data\n",
    "best_xgb = random_search_xgb.best_estimator_\n",
    "y_pred_xgb = best_xgb.predict(X_test)\n",
    "\n",
    "print(\"\\n🚀 Tuned XGBoost Test Accuracy:\", accuracy_score(y_test, y_pred_xgb))\n",
    "print(\"\\nClassification Report:\\n\", classification_report(y_test, y_pred_xgb))"
   ]
  },
  {
   "cell_type": "code",
   "execution_count": 29,
   "id": "90390a60-a639-40e4-9679-a12c8512249d",
   "metadata": {},
   "outputs": [
    {
     "name": "stdout",
     "output_type": "stream",
     "text": [
      "✅ Loaded label encoders successfully!\n"
     ]
    }
   ],
   "source": [
    "# Load saved encoders from preprocessing step\n",
    "label_encoders = joblib.load(\"../models/finory_label_encoders.joblib\")\n",
    "print(\"✅ Loaded label encoders successfully!\")"
   ]
  },
  {
   "cell_type": "code",
   "execution_count": 33,
   "id": "81a9c018-df7e-4a73-afcd-7c48947f16b6",
   "metadata": {},
   "outputs": [
    {
     "name": "stdout",
     "output_type": "stream",
     "text": [
      "✅ Baseline tuned model saved at: ../models/finory_baseline_xgb.joblib\n",
      "✅ Label encoders saved at: ../models/finory_label_encoders.joblib\n"
     ]
    }
   ],
   "source": [
    "# Save the tuned XGBoost model\n",
    "import os\n",
    "import joblib\n",
    "\n",
    "# Ensure models folder exists\n",
    "os.makedirs(\"../models\", exist_ok=True)\n",
    "\n",
    "# Paths for saving\n",
    "model_path = \"../models/finory_baseline_xgb.joblib\"\n",
    "encoders_path = \"../models/finory_label_encoders.joblib\"\n",
    "\n",
    "# Save the tuned model\n",
    "joblib.dump(best_xgb, model_path)\n",
    "\n",
    "# Save the already loaded label_encoders (no need to redefine!)\n",
    "joblib.dump(label_encoders, encoders_path)\n",
    "\n",
    "print(f\"✅ Baseline tuned model saved at: {model_path}\")\n",
    "print(f\"✅ Label encoders saved at: {encoders_path}\")"
   ]
  },
  {
   "cell_type": "code",
   "execution_count": null,
   "id": "95e550d3-17df-4fed-9918-15bf9a1fafee",
   "metadata": {},
   "outputs": [],
   "source": []
  }
 ],
 "metadata": {
  "kernelspec": {
   "display_name": "Python [conda env:base] *",
   "language": "python",
   "name": "conda-base-py"
  },
  "language_info": {
   "codemirror_mode": {
    "name": "ipython",
    "version": 3
   },
   "file_extension": ".py",
   "mimetype": "text/x-python",
   "name": "python",
   "nbconvert_exporter": "python",
   "pygments_lexer": "ipython3",
   "version": "3.12.7"
  }
 },
 "nbformat": 4,
 "nbformat_minor": 5
}
