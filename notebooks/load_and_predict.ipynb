{
 "cells": [
  {
   "cell_type": "code",
   "execution_count": null,
   "id": "94a4e09d-501e-41e3-8a5a-fed165b7c370",
   "metadata": {},
   "outputs": [],
   "source": [
    "import joblib\n",
    "\n",
    "# Paths to saved model & encoders\n",
    "model_path = \"../models/finory_baseline_xgb.joblib\"\n",
    "encoders_path = \"../models/finory_label_encoders.joblib\"\n",
    "\n",
    "# Load model\n",
    "loaded_model = joblib.load(model_path)\n",
    "\n",
    "# Load encoders\n",
    "loaded_encoders = joblib.load(encoders_path)\n",
    "\n",
    "print(\"✅ Model and encoders loaded successfully!\")\n",
    "\n",
    "# Example usage for prediction\n",
    "sample_features = [[2, 35.67, 1, 3, 7]]  # [vendor_encoded, amount_log, payment_encoded, day_of_week, month]\n",
    "predicted_category_encoded = loaded_model.predict(sample_features)\n",
    "\n",
    "# Decode category back to original label\n",
    "decoded_category = loaded_encoders['category_encoder'].inverse_transform(predicted_category_encoded)\n",
    "print(\"Predicted category:\", decoded_category[0])"
   ]
  }
 ],
 "metadata": {
  "kernelspec": {
   "display_name": "Python [conda env:base] *",
   "language": "python",
   "name": "conda-base-py"
  },
  "language_info": {
   "codemirror_mode": {
    "name": "ipython",
    "version": 3
   },
   "file_extension": ".py",
   "mimetype": "text/x-python",
   "name": "python",
   "nbconvert_exporter": "python",
   "pygments_lexer": "ipython3",
   "version": "3.12.7"
  }
 },
 "nbformat": 4,
 "nbformat_minor": 5
}
